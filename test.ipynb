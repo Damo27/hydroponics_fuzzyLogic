{
 "cells": [
  {
   "cell_type": "code",
   "execution_count": 249,
   "metadata": {},
   "outputs": [],
   "source": [
    "import numpy as np\n",
    "import skfuzzy as fuzz\n",
    "from skfuzzy import control as ctrl\n",
    "import matplotlib.pyplot as plt\n",
    "from mpl_toolkits.mplot3d import Axes3D  # Required for 3D plotting\n",
    "from matplotlib.lines import lineStyles\n",
    "import requests\n",
    "import time\n",
    "import csv\n",
    "import pandas as pd\n",
    "import seaborn as sns"
   ]
  },
  {
   "cell_type": "code",
   "execution_count": 250,
   "metadata": {},
   "outputs": [],
   "source": [
    "pH = ctrl.Antecedent(np.arange(0, 15, 0.1), 'pH')\n",
    "pH['Low'] = fuzz.trimf(pH.universe, [0, 0, 7])\n",
    "pH['Optimal'] = fuzz.trimf(pH.universe, [6, 7, 8])\n",
    "pH['High'] = fuzz.trimf(pH.universe, [7, 14, 14])\n",
    "\n",
    "airTemp = ctrl.Antecedent(np.arange(0, 46, 1), 'AirTemp')\n",
    "airTemp['Low'] = fuzz.trimf(airTemp.universe, [0, 0, 15])\n",
    "airTemp['Optimal'] = fuzz.trimf(airTemp.universe, [10, 15, 20])\n",
    "airTemp['High'] = fuzz.trimf(airTemp.universe, [15, 45, 45])\n",
    "\n",
    "humidity = ctrl.Antecedent(np.arange(0,101,1), 'Humidity')\n",
    "humidity['Low'] = fuzz.trimf(humidity.universe, [0, 0, 60])\n",
    "humidity['Optimal'] = fuzz.trimf(humidity.universe, [50, 60, 70])\n",
    "humidity['High'] = fuzz.trimf(humidity.universe, [60, 100, 100])\n",
    "\n",
    "conductivity = ctrl.Antecedent(np.arange(0, 5.1, 0.1), 'Conductivity')\n",
    "conductivity['Low'] = fuzz.trimf(conductivity.universe, [0, 0, 2.1])\n",
    "conductivity['Optimal'] = fuzz.trimf(conductivity.universe, [1.8, 2.1, 2.3])\n",
    "conductivity['High'] = fuzz.trimf(conductivity.universe, [2.1, 5, 5])"
   ]
  },
  {
   "cell_type": "code",
   "execution_count": 251,
   "metadata": {},
   "outputs": [],
   "source": [
    "lights = ctrl.Consequent(np.arange(0, 4, 1), 'Lights')\n",
    "lights['Off'] = fuzz.trimf(lights.universe, [0,0,1])\n",
    "lights['Low'] = fuzz.trimf(lights.universe, [1,1,2])\n",
    "lights['Medium'] = fuzz.trimf(lights.universe, [1,2,3])\n",
    "lights['High'] = fuzz.trimf(lights.universe, [2,3,3])\n",
    "\n",
    "fans = ctrl.Consequent(np.arange(0, 2, 1), 'Fans')\n",
    "fans['Off'] = fuzz.trimf(fans.universe, [0,0,1])\n",
    "fans['On'] = fuzz.trimf(fans.universe, [1,1,2])\n",
    "\n",
    "pH_control = ctrl.Consequent(np.arange(0, 3, 1), 'pH Control')\n",
    "pH_control['Add Acid'] = fuzz.trimf(pH_control.universe, [0,0,1])\n",
    "pH_control['No Action'] = fuzz.trimf(pH_control.universe, [0,1,2])\n",
    "pH_control['Add Alkali'] = fuzz.trimf(pH_control.universe, [1,2,2])\n",
    "\n",
    "solution_control = ctrl.Consequent(np.arange(0, 3, 1), 'Solution Control')\n",
    "solution_control['Add Salts'] = fuzz.trimf(solution_control.universe, [0,0,1])\n",
    "solution_control['No Action'] = fuzz.trimf(solution_control.universe, [0,1,2])\n",
    "solution_control['Add Water'] = fuzz.trimf(solution_control.universe, [1,2,2])"
   ]
  },
  {
   "cell_type": "code",
   "execution_count": 252,
   "metadata": {},
   "outputs": [],
   "source": [
    "# Rules for Air temp and Humidity to adjust lights and fans\n",
    "rule1 = ctrl.Rule(airTemp['Low'] & humidity['Low'], (lights['High'], fans['Off']))\n",
    "rule2 = ctrl.Rule(airTemp['Optimal'] & humidity['Low'], (lights['Medium'], fans['Off']))\n",
    "rule3 = ctrl.Rule(airTemp['High'] & humidity['Low'], (lights['Off'], fans['Off']))\n",
    "\n",
    "rule4 = ctrl.Rule(airTemp['Low'] & humidity['Optimal'], (lights['Medium'], fans['Off']))\n",
    "rule5 = ctrl.Rule(airTemp['Optimal'] & humidity['Optimal'], (lights['Low'], fans['Off']))\n",
    "rule6 = ctrl.Rule(airTemp['High'] & humidity['Optimal'], (lights['Off'], fans['Off']))\n",
    "\n",
    "rule7 = ctrl.Rule(airTemp['Low'] & humidity['High'], (lights['High'], fans['On']))\n",
    "rule8 = ctrl.Rule(airTemp['Optimal'] & humidity['High'], (lights['Medium'], fans['On']))\n",
    "rule9 = ctrl.Rule(airTemp['High'] & humidity['High'], (lights['Off'], fans['On']))\n",
    "\n",
    "# Rules for pH\n",
    "rule10 = ctrl.Rule(pH['Low'], pH_control['Add Alkali'])\n",
    "rule11 = ctrl.Rule(pH['Optimal'], pH_control['No Action'])\n",
    "rule12 = ctrl.Rule(pH['High'], pH_control['Add Acid']) \n",
    "\n",
    "# Rules for conductivity\n",
    "rule13 = ctrl.Rule(conductivity['Low'], solution_control['Add Salts'])\n",
    "rule14 = ctrl.Rule(conductivity['Optimal'], solution_control['No Action'])\n",
    "rule15 = ctrl.Rule(conductivity['High'], solution_control['Add Water']) \n",
    "\n",
    "rules = [rule1, rule2, rule3, rule4, rule5, rule6, rule7, rule8, rule9, rule10, rule11, rule12, rule13, rule14, rule15]\n",
    "hydroponics_ctrl = ctrl.ControlSystem(rules)\n",
    "ctrlSim = ctrl.ControlSystemSimulation(hydroponics_ctrl)\n",
    "\n",
    "def run(airTemp_reading, humidity_reading, pH_reading, ec_reading):\n",
    "        ctrlSim.input['AirTemp'] = airTemp_reading\n",
    "        ctrlSim.input['Humidity'] = humidity_reading\n",
    "        ctrlSim.input['pH'] = pH_reading\n",
    "        ctrlSim.input['Conductivity'] = ec_reading\n",
    "        ctrlSim.compute()\n",
    "\n",
    "def getResults():\n",
    "    lights_change = ctrlSim.output['Lights']\n",
    "    lights_str = 'Off' if lights_change < 0.5 else 'Low' if lights_change < 1.5 else 'Medium' if lights_change < 2.5 else 'High'\n",
    "\n",
    "    fans_change = ctrlSim.output['Fans']\n",
    "    fans_str = 'Off' if fans_change < 0.5 else 'On'\n",
    "\n",
    "    pH_change = ctrlSim.output['pH Control']\n",
    "    pH_str = 'Add Acid' if pH_change < 0.5 else 'No Action' if pH_change < 1.5 else 'Add Alkali'\n",
    "\n",
    "    ec_change = ctrlSim.output['Solution Control']\n",
    "    ec_str = 'Add Salts' if ec_change < 0.5 else 'No Action' if ec_change < 1.5 else 'Add Water'\n",
    "\n",
    "    return [lights_change, fans_change, pH_change, ec_change, lights_str, fans_str, pH_str, ec_str]"
   ]
  },
  {
   "cell_type": "code",
   "execution_count": 253,
   "metadata": {},
   "outputs": [
    {
     "data": {
      "text/html": [
       "<div>\n",
       "<style scoped>\n",
       "    .dataframe tbody tr th:only-of-type {\n",
       "        vertical-align: middle;\n",
       "    }\n",
       "\n",
       "    .dataframe tbody tr th {\n",
       "        vertical-align: top;\n",
       "    }\n",
       "\n",
       "    .dataframe thead th {\n",
       "        text-align: right;\n",
       "    }\n",
       "</style>\n",
       "<table border=\"1\" class=\"dataframe\">\n",
       "  <thead>\n",
       "    <tr style=\"text-align: right;\">\n",
       "      <th></th>\n",
       "      <th>time</th>\n",
       "      <th>id</th>\n",
       "      <th>AirTemperature</th>\n",
       "    </tr>\n",
       "  </thead>\n",
       "  <tbody>\n",
       "    <tr>\n",
       "      <th>0</th>\n",
       "      <td>2020-10-08 19:42:16 UTC</td>\n",
       "      <td>373505</td>\n",
       "      <td>75.2</td>\n",
       "    </tr>\n",
       "    <tr>\n",
       "      <th>1</th>\n",
       "      <td>2020-10-08 19:42:45 UTC</td>\n",
       "      <td>373506</td>\n",
       "      <td>75.2</td>\n",
       "    </tr>\n",
       "    <tr>\n",
       "      <th>2</th>\n",
       "      <td>2020-10-08 19:43:14 UTC</td>\n",
       "      <td>373507</td>\n",
       "      <td>53.6</td>\n",
       "    </tr>\n",
       "    <tr>\n",
       "      <th>3</th>\n",
       "      <td>2020-10-08 19:43:44 UTC</td>\n",
       "      <td>373508</td>\n",
       "      <td>75.2</td>\n",
       "    </tr>\n",
       "    <tr>\n",
       "      <th>4</th>\n",
       "      <td>2020-10-08 19:44:13 UTC</td>\n",
       "      <td>373509</td>\n",
       "      <td>75.2</td>\n",
       "    </tr>\n",
       "  </tbody>\n",
       "</table>\n",
       "</div>"
      ],
      "text/plain": [
       "                      time      id  AirTemperature\n",
       "0  2020-10-08 19:42:16 UTC  373505            75.2\n",
       "1  2020-10-08 19:42:45 UTC  373506            75.2\n",
       "2  2020-10-08 19:43:14 UTC  373507            53.6\n",
       "3  2020-10-08 19:43:44 UTC  373508            75.2\n",
       "4  2020-10-08 19:44:13 UTC  373509            75.2"
      ]
     },
     "execution_count": 253,
     "metadata": {},
     "output_type": "execute_result"
    }
   ],
   "source": [
    "colnames=['time', 'id', 'AirTemperature'] \n",
    "df_air = pd.read_csv('./Test data/AirTemperature.csv', names=colnames, skiprows=1)\n",
    "df_air.head()"
   ]
  },
  {
   "cell_type": "code",
   "execution_count": 254,
   "metadata": {},
   "outputs": [
    {
     "data": {
      "text/html": [
       "<div>\n",
       "<style scoped>\n",
       "    .dataframe tbody tr th:only-of-type {\n",
       "        vertical-align: middle;\n",
       "    }\n",
       "\n",
       "    .dataframe tbody tr th {\n",
       "        vertical-align: top;\n",
       "    }\n",
       "\n",
       "    .dataframe thead th {\n",
       "        text-align: right;\n",
       "    }\n",
       "</style>\n",
       "<table border=\"1\" class=\"dataframe\">\n",
       "  <thead>\n",
       "    <tr style=\"text-align: right;\">\n",
       "      <th></th>\n",
       "      <th>time</th>\n",
       "      <th>id</th>\n",
       "      <th>Humidity</th>\n",
       "    </tr>\n",
       "  </thead>\n",
       "  <tbody>\n",
       "    <tr>\n",
       "      <th>0</th>\n",
       "      <td>2020-10-08 19:42:16 UTC</td>\n",
       "      <td>373505</td>\n",
       "      <td>21.0</td>\n",
       "    </tr>\n",
       "    <tr>\n",
       "      <th>1</th>\n",
       "      <td>2020-10-08 19:42:45 UTC</td>\n",
       "      <td>373506</td>\n",
       "      <td>21.0</td>\n",
       "    </tr>\n",
       "    <tr>\n",
       "      <th>2</th>\n",
       "      <td>2020-10-08 19:43:14 UTC</td>\n",
       "      <td>373507</td>\n",
       "      <td>138.0</td>\n",
       "    </tr>\n",
       "    <tr>\n",
       "      <th>3</th>\n",
       "      <td>2020-10-08 19:43:44 UTC</td>\n",
       "      <td>373508</td>\n",
       "      <td>21.0</td>\n",
       "    </tr>\n",
       "    <tr>\n",
       "      <th>4</th>\n",
       "      <td>2020-10-08 19:44:13 UTC</td>\n",
       "      <td>373509</td>\n",
       "      <td>21.0</td>\n",
       "    </tr>\n",
       "  </tbody>\n",
       "</table>\n",
       "</div>"
      ],
      "text/plain": [
       "                      time      id  Humidity\n",
       "0  2020-10-08 19:42:16 UTC  373505      21.0\n",
       "1  2020-10-08 19:42:45 UTC  373506      21.0\n",
       "2  2020-10-08 19:43:14 UTC  373507     138.0\n",
       "3  2020-10-08 19:43:44 UTC  373508      21.0\n",
       "4  2020-10-08 19:44:13 UTC  373509      21.0"
      ]
     },
     "execution_count": 254,
     "metadata": {},
     "output_type": "execute_result"
    }
   ],
   "source": [
    "colnames=['time', 'id', 'Humidity'] \n",
    "df_humid = pd.read_csv('./Test data/Humidity.csv', names=colnames, skiprows=1)\n",
    "df_humid.head()"
   ]
  },
  {
   "cell_type": "code",
   "execution_count": 255,
   "metadata": {},
   "outputs": [
    {
     "data": {
      "text/html": [
       "<div>\n",
       "<style scoped>\n",
       "    .dataframe tbody tr th:only-of-type {\n",
       "        vertical-align: middle;\n",
       "    }\n",
       "\n",
       "    .dataframe tbody tr th {\n",
       "        vertical-align: top;\n",
       "    }\n",
       "\n",
       "    .dataframe thead th {\n",
       "        text-align: right;\n",
       "    }\n",
       "</style>\n",
       "<table border=\"1\" class=\"dataframe\">\n",
       "  <thead>\n",
       "    <tr style=\"text-align: right;\">\n",
       "      <th></th>\n",
       "      <th>time</th>\n",
       "      <th>id</th>\n",
       "      <th>pH</th>\n",
       "    </tr>\n",
       "  </thead>\n",
       "  <tbody>\n",
       "    <tr>\n",
       "      <th>0</th>\n",
       "      <td>2020-10-08 19:42:16 UTC</td>\n",
       "      <td>373505</td>\n",
       "      <td>4.142</td>\n",
       "    </tr>\n",
       "    <tr>\n",
       "      <th>1</th>\n",
       "      <td>2020-10-08 19:42:45 UTC</td>\n",
       "      <td>373506</td>\n",
       "      <td>4.138</td>\n",
       "    </tr>\n",
       "    <tr>\n",
       "      <th>2</th>\n",
       "      <td>2020-10-08 19:43:14 UTC</td>\n",
       "      <td>373507</td>\n",
       "      <td>4.140</td>\n",
       "    </tr>\n",
       "    <tr>\n",
       "      <th>3</th>\n",
       "      <td>2020-10-08 19:43:44 UTC</td>\n",
       "      <td>373508</td>\n",
       "      <td>4.146</td>\n",
       "    </tr>\n",
       "    <tr>\n",
       "      <th>4</th>\n",
       "      <td>2020-10-08 19:44:13 UTC</td>\n",
       "      <td>373509</td>\n",
       "      <td>4.139</td>\n",
       "    </tr>\n",
       "  </tbody>\n",
       "</table>\n",
       "</div>"
      ],
      "text/plain": [
       "                      time      id     pH\n",
       "0  2020-10-08 19:42:16 UTC  373505  4.142\n",
       "1  2020-10-08 19:42:45 UTC  373506  4.138\n",
       "2  2020-10-08 19:43:14 UTC  373507  4.140\n",
       "3  2020-10-08 19:43:44 UTC  373508  4.146\n",
       "4  2020-10-08 19:44:13 UTC  373509  4.139"
      ]
     },
     "execution_count": 255,
     "metadata": {},
     "output_type": "execute_result"
    }
   ],
   "source": [
    "colnames=['time', 'id', 'pH'] \n",
    "df_pH = pd.read_csv('./Test data/pH.csv', names=colnames, skiprows=1)\n",
    "df_pH.head()"
   ]
  },
  {
   "cell_type": "code",
   "execution_count": 256,
   "metadata": {},
   "outputs": [
    {
     "data": {
      "text/html": [
       "<div>\n",
       "<style scoped>\n",
       "    .dataframe tbody tr th:only-of-type {\n",
       "        vertical-align: middle;\n",
       "    }\n",
       "\n",
       "    .dataframe tbody tr th {\n",
       "        vertical-align: top;\n",
       "    }\n",
       "\n",
       "    .dataframe thead th {\n",
       "        text-align: right;\n",
       "    }\n",
       "</style>\n",
       "<table border=\"1\" class=\"dataframe\">\n",
       "  <thead>\n",
       "    <tr style=\"text-align: right;\">\n",
       "      <th></th>\n",
       "      <th>time</th>\n",
       "      <th>id</th>\n",
       "      <th>Conductivity</th>\n",
       "    </tr>\n",
       "  </thead>\n",
       "  <tbody>\n",
       "    <tr>\n",
       "      <th>0</th>\n",
       "      <td>2020-10-08 19:42:16 UTC</td>\n",
       "      <td>373505</td>\n",
       "      <td>0.01504</td>\n",
       "    </tr>\n",
       "    <tr>\n",
       "      <th>1</th>\n",
       "      <td>2020-10-08 19:42:45 UTC</td>\n",
       "      <td>373506</td>\n",
       "      <td>0.01514</td>\n",
       "    </tr>\n",
       "    <tr>\n",
       "      <th>2</th>\n",
       "      <td>2020-10-08 19:43:14 UTC</td>\n",
       "      <td>373507</td>\n",
       "      <td>0.01494</td>\n",
       "    </tr>\n",
       "    <tr>\n",
       "      <th>3</th>\n",
       "      <td>2020-10-08 19:43:44 UTC</td>\n",
       "      <td>373508</td>\n",
       "      <td>0.01514</td>\n",
       "    </tr>\n",
       "    <tr>\n",
       "      <th>4</th>\n",
       "      <td>2020-10-08 19:44:13 UTC</td>\n",
       "      <td>373509</td>\n",
       "      <td>0.01504</td>\n",
       "    </tr>\n",
       "  </tbody>\n",
       "</table>\n",
       "</div>"
      ],
      "text/plain": [
       "                      time      id  Conductivity\n",
       "0  2020-10-08 19:42:16 UTC  373505       0.01504\n",
       "1  2020-10-08 19:42:45 UTC  373506       0.01514\n",
       "2  2020-10-08 19:43:14 UTC  373507       0.01494\n",
       "3  2020-10-08 19:43:44 UTC  373508       0.01514\n",
       "4  2020-10-08 19:44:13 UTC  373509       0.01504"
      ]
     },
     "execution_count": 256,
     "metadata": {},
     "output_type": "execute_result"
    }
   ],
   "source": [
    "colnames=['time', 'id', 'Conductivity'] \n",
    "df_ec = pd.read_csv('./Test data/Conductivity.csv', names=colnames, skiprows=1)\n",
    "df_ec.head()"
   ]
  },
  {
   "cell_type": "code",
   "execution_count": 257,
   "metadata": {},
   "outputs": [
    {
     "data": {
      "text/plain": [
       "(100, 4)"
      ]
     },
     "execution_count": 257,
     "metadata": {},
     "output_type": "execute_result"
    }
   ],
   "source": [
    "df = pd.concat([df_air['AirTemperature'], df_humid['Humidity'], df_pH['pH'], df_ec['Conductivity']], axis=1)\n",
    "df.shape"
   ]
  },
  {
   "cell_type": "code",
   "execution_count": 258,
   "metadata": {},
   "outputs": [
    {
     "data": {
      "text/html": [
       "<div>\n",
       "<style scoped>\n",
       "    .dataframe tbody tr th:only-of-type {\n",
       "        vertical-align: middle;\n",
       "    }\n",
       "\n",
       "    .dataframe tbody tr th {\n",
       "        vertical-align: top;\n",
       "    }\n",
       "\n",
       "    .dataframe thead th {\n",
       "        text-align: right;\n",
       "    }\n",
       "</style>\n",
       "<table border=\"1\" class=\"dataframe\">\n",
       "  <thead>\n",
       "    <tr style=\"text-align: right;\">\n",
       "      <th></th>\n",
       "      <th>AirTemperature</th>\n",
       "      <th>Humidity</th>\n",
       "      <th>pH</th>\n",
       "      <th>Conductivity</th>\n",
       "    </tr>\n",
       "  </thead>\n",
       "  <tbody>\n",
       "    <tr>\n",
       "      <th>0</th>\n",
       "      <td>75.2</td>\n",
       "      <td>21.0</td>\n",
       "      <td>4.142</td>\n",
       "      <td>0.01504</td>\n",
       "    </tr>\n",
       "    <tr>\n",
       "      <th>1</th>\n",
       "      <td>75.2</td>\n",
       "      <td>21.0</td>\n",
       "      <td>4.138</td>\n",
       "      <td>0.01514</td>\n",
       "    </tr>\n",
       "    <tr>\n",
       "      <th>2</th>\n",
       "      <td>53.6</td>\n",
       "      <td>138.0</td>\n",
       "      <td>4.140</td>\n",
       "      <td>0.01494</td>\n",
       "    </tr>\n",
       "    <tr>\n",
       "      <th>3</th>\n",
       "      <td>75.2</td>\n",
       "      <td>21.0</td>\n",
       "      <td>4.146</td>\n",
       "      <td>0.01514</td>\n",
       "    </tr>\n",
       "    <tr>\n",
       "      <th>4</th>\n",
       "      <td>75.2</td>\n",
       "      <td>21.0</td>\n",
       "      <td>4.139</td>\n",
       "      <td>0.01504</td>\n",
       "    </tr>\n",
       "  </tbody>\n",
       "</table>\n",
       "</div>"
      ],
      "text/plain": [
       "   AirTemperature  Humidity     pH  Conductivity\n",
       "0            75.2      21.0  4.142       0.01504\n",
       "1            75.2      21.0  4.138       0.01514\n",
       "2            53.6     138.0  4.140       0.01494\n",
       "3            75.2      21.0  4.146       0.01514\n",
       "4            75.2      21.0  4.139       0.01504"
      ]
     },
     "execution_count": 258,
     "metadata": {},
     "output_type": "execute_result"
    }
   ],
   "source": [
    "df.head()"
   ]
  },
  {
   "cell_type": "code",
   "execution_count": 259,
   "metadata": {},
   "outputs": [
    {
     "data": {
      "text/html": [
       "<div>\n",
       "<style scoped>\n",
       "    .dataframe tbody tr th:only-of-type {\n",
       "        vertical-align: middle;\n",
       "    }\n",
       "\n",
       "    .dataframe tbody tr th {\n",
       "        vertical-align: top;\n",
       "    }\n",
       "\n",
       "    .dataframe thead th {\n",
       "        text-align: right;\n",
       "    }\n",
       "</style>\n",
       "<table border=\"1\" class=\"dataframe\">\n",
       "  <thead>\n",
       "    <tr style=\"text-align: right;\">\n",
       "      <th></th>\n",
       "      <th>AirTemperature</th>\n",
       "      <th>Humidity</th>\n",
       "      <th>pH</th>\n",
       "      <th>Conductivity</th>\n",
       "    </tr>\n",
       "  </thead>\n",
       "  <tbody>\n",
       "    <tr>\n",
       "      <th>0</th>\n",
       "      <td>24.0</td>\n",
       "      <td>21.0</td>\n",
       "      <td>4.142</td>\n",
       "      <td>1.504</td>\n",
       "    </tr>\n",
       "    <tr>\n",
       "      <th>1</th>\n",
       "      <td>24.0</td>\n",
       "      <td>21.0</td>\n",
       "      <td>4.138</td>\n",
       "      <td>1.514</td>\n",
       "    </tr>\n",
       "    <tr>\n",
       "      <th>2</th>\n",
       "      <td>12.0</td>\n",
       "      <td>138.0</td>\n",
       "      <td>4.140</td>\n",
       "      <td>1.494</td>\n",
       "    </tr>\n",
       "    <tr>\n",
       "      <th>3</th>\n",
       "      <td>24.0</td>\n",
       "      <td>21.0</td>\n",
       "      <td>4.146</td>\n",
       "      <td>1.514</td>\n",
       "    </tr>\n",
       "    <tr>\n",
       "      <th>4</th>\n",
       "      <td>24.0</td>\n",
       "      <td>21.0</td>\n",
       "      <td>4.139</td>\n",
       "      <td>1.504</td>\n",
       "    </tr>\n",
       "  </tbody>\n",
       "</table>\n",
       "</div>"
      ],
      "text/plain": [
       "   AirTemperature  Humidity     pH  Conductivity\n",
       "0            24.0      21.0  4.142         1.504\n",
       "1            24.0      21.0  4.138         1.514\n",
       "2            12.0     138.0  4.140         1.494\n",
       "3            24.0      21.0  4.146         1.514\n",
       "4            24.0      21.0  4.139         1.504"
      ]
     },
     "execution_count": 259,
     "metadata": {},
     "output_type": "execute_result"
    }
   ],
   "source": [
    "df['AirTemperature'] = (df['AirTemperature']-32)/1.8\n",
    "df['Conductivity'] = df['Conductivity']*100\n",
    "df.head()"
   ]
  },
  {
   "cell_type": "code",
   "execution_count": 260,
   "metadata": {},
   "outputs": [
    {
     "data": {
      "text/html": [
       "<div>\n",
       "<style scoped>\n",
       "    .dataframe tbody tr th:only-of-type {\n",
       "        vertical-align: middle;\n",
       "    }\n",
       "\n",
       "    .dataframe tbody tr th {\n",
       "        vertical-align: top;\n",
       "    }\n",
       "\n",
       "    .dataframe thead th {\n",
       "        text-align: right;\n",
       "    }\n",
       "</style>\n",
       "<table border=\"1\" class=\"dataframe\">\n",
       "  <thead>\n",
       "    <tr style=\"text-align: right;\">\n",
       "      <th></th>\n",
       "      <th>Air Temperature</th>\n",
       "      <th>Humidity</th>\n",
       "      <th>pH</th>\n",
       "      <th>Conductivity</th>\n",
       "      <th>Lights Membership</th>\n",
       "      <th>Fans Membership</th>\n",
       "      <th>pH Membership</th>\n",
       "      <th>EC Membership</th>\n",
       "      <th>Lights Status</th>\n",
       "      <th>Fans Status</th>\n",
       "      <th>pH Control Status</th>\n",
       "      <th>EC Control Status</th>\n",
       "    </tr>\n",
       "  </thead>\n",
       "  <tbody>\n",
       "  </tbody>\n",
       "</table>\n",
       "</div>"
      ],
      "text/plain": [
       "Empty DataFrame\n",
       "Columns: [Air Temperature, Humidity, pH, Conductivity, Lights Membership, Fans Membership, pH Membership, EC Membership, Lights Status, Fans Status, pH Control Status, EC Control Status]\n",
       "Index: []"
      ]
     },
     "execution_count": 260,
     "metadata": {},
     "output_type": "execute_result"
    }
   ],
   "source": [
    "results = pd.DataFrame(columns=['Air Temperature','Humidity','pH', 'Conductivity', 'Lights Membership', 'Fans Membership', 'pH Membership', 'EC Membership', 'Lights Status', 'Fans Status', 'pH Control Status', 'EC Control Status'])\n",
    "results.head()"
   ]
  },
  {
   "cell_type": "code",
   "execution_count": 261,
   "metadata": {},
   "outputs": [
    {
     "data": {
      "text/plain": [
       "(100, 12)"
      ]
     },
     "execution_count": 261,
     "metadata": {},
     "output_type": "execute_result"
    }
   ],
   "source": [
    "i = 0\n",
    "\n",
    "for index, row in df.iterrows():\n",
    "    run(row[0], row[1], row[2], row[3])\n",
    "    results.loc[i] = np.concatenate((row, getResults()))\n",
    "    i = i + 1\n",
    "    ctrlSim.reset()\n",
    "\n",
    "results.shape"
   ]
  },
  {
   "cell_type": "code",
   "execution_count": 262,
   "metadata": {},
   "outputs": [
    {
     "data": {
      "text/html": [
       "<div>\n",
       "<style scoped>\n",
       "    .dataframe tbody tr th:only-of-type {\n",
       "        vertical-align: middle;\n",
       "    }\n",
       "\n",
       "    .dataframe tbody tr th {\n",
       "        vertical-align: top;\n",
       "    }\n",
       "\n",
       "    .dataframe thead th {\n",
       "        text-align: right;\n",
       "    }\n",
       "</style>\n",
       "<table border=\"1\" class=\"dataframe\">\n",
       "  <thead>\n",
       "    <tr style=\"text-align: right;\">\n",
       "      <th></th>\n",
       "      <th>Air Temperature</th>\n",
       "      <th>Humidity</th>\n",
       "      <th>pH</th>\n",
       "      <th>Conductivity</th>\n",
       "      <th>Lights Membership</th>\n",
       "      <th>Fans Membership</th>\n",
       "      <th>pH Membership</th>\n",
       "      <th>EC Membership</th>\n",
       "      <th>Lights Status</th>\n",
       "      <th>Fans Status</th>\n",
       "      <th>pH Control Status</th>\n",
       "      <th>EC Control Status</th>\n",
       "    </tr>\n",
       "  </thead>\n",
       "  <tbody>\n",
       "    <tr>\n",
       "      <th>0</th>\n",
       "      <td>24.0</td>\n",
       "      <td>21.0</td>\n",
       "      <td>4.142</td>\n",
       "      <td>1.504</td>\n",
       "      <td>0.4294117647058823</td>\n",
       "      <td>0.4294117647058823</td>\n",
       "      <td>1.5933440862972366</td>\n",
       "      <td>0.4329587935803252</td>\n",
       "      <td>Off</td>\n",
       "      <td>Off</td>\n",
       "      <td>Add Alkali</td>\n",
       "      <td>Add Salts</td>\n",
       "    </tr>\n",
       "    <tr>\n",
       "      <th>1</th>\n",
       "      <td>24.0</td>\n",
       "      <td>21.0</td>\n",
       "      <td>4.138</td>\n",
       "      <td>1.514</td>\n",
       "      <td>0.4294117647058823</td>\n",
       "      <td>0.4294117647058823</td>\n",
       "      <td>1.5934593540774182</td>\n",
       "      <td>0.43400866120290577</td>\n",
       "      <td>Off</td>\n",
       "      <td>Off</td>\n",
       "      <td>Add Alkali</td>\n",
       "      <td>Add Salts</td>\n",
       "    </tr>\n",
       "    <tr>\n",
       "      <th>2</th>\n",
       "      <td>12.0</td>\n",
       "      <td>138.0</td>\n",
       "      <td>4.14</td>\n",
       "      <td>1.494</td>\n",
       "      <td>2.0509803921568626</td>\n",
       "      <td>0.5916666666666667</td>\n",
       "      <td>1.593401726938531</td>\n",
       "      <td>0.43191191668654105</td>\n",
       "      <td>Medium</td>\n",
       "      <td>On</td>\n",
       "      <td>Add Alkali</td>\n",
       "      <td>Add Salts</td>\n",
       "    </tr>\n",
       "    <tr>\n",
       "      <th>3</th>\n",
       "      <td>24.0</td>\n",
       "      <td>21.0</td>\n",
       "      <td>4.146</td>\n",
       "      <td>1.514</td>\n",
       "      <td>0.4294117647058823</td>\n",
       "      <td>0.4294117647058823</td>\n",
       "      <td>1.5932287645364982</td>\n",
       "      <td>0.43400866120290577</td>\n",
       "      <td>Off</td>\n",
       "      <td>Off</td>\n",
       "      <td>Add Alkali</td>\n",
       "      <td>Add Salts</td>\n",
       "    </tr>\n",
       "    <tr>\n",
       "      <th>4</th>\n",
       "      <td>24.0</td>\n",
       "      <td>21.0</td>\n",
       "      <td>4.139</td>\n",
       "      <td>1.504</td>\n",
       "      <td>0.4294117647058823</td>\n",
       "      <td>0.4294117647058823</td>\n",
       "      <td>1.5934305421962303</td>\n",
       "      <td>0.4329587935803252</td>\n",
       "      <td>Off</td>\n",
       "      <td>Off</td>\n",
       "      <td>Add Alkali</td>\n",
       "      <td>Add Salts</td>\n",
       "    </tr>\n",
       "  </tbody>\n",
       "</table>\n",
       "</div>"
      ],
      "text/plain": [
       "  Air Temperature Humidity     pH Conductivity   Lights Membership  \\\n",
       "0            24.0     21.0  4.142        1.504  0.4294117647058823   \n",
       "1            24.0     21.0  4.138        1.514  0.4294117647058823   \n",
       "2            12.0    138.0   4.14        1.494  2.0509803921568626   \n",
       "3            24.0     21.0  4.146        1.514  0.4294117647058823   \n",
       "4            24.0     21.0  4.139        1.504  0.4294117647058823   \n",
       "\n",
       "      Fans Membership       pH Membership        EC Membership Lights Status  \\\n",
       "0  0.4294117647058823  1.5933440862972366   0.4329587935803252           Off   \n",
       "1  0.4294117647058823  1.5934593540774182  0.43400866120290577           Off   \n",
       "2  0.5916666666666667   1.593401726938531  0.43191191668654105        Medium   \n",
       "3  0.4294117647058823  1.5932287645364982  0.43400866120290577           Off   \n",
       "4  0.4294117647058823  1.5934305421962303   0.4329587935803252           Off   \n",
       "\n",
       "  Fans Status pH Control Status EC Control Status  \n",
       "0         Off        Add Alkali         Add Salts  \n",
       "1         Off        Add Alkali         Add Salts  \n",
       "2          On        Add Alkali         Add Salts  \n",
       "3         Off        Add Alkali         Add Salts  \n",
       "4         Off        Add Alkali         Add Salts  "
      ]
     },
     "execution_count": 262,
     "metadata": {},
     "output_type": "execute_result"
    }
   ],
   "source": [
    "results.head()"
   ]
  },
  {
   "cell_type": "code",
   "execution_count": 265,
   "metadata": {},
   "outputs": [
    {
     "name": "stdout",
     "output_type": "stream",
     "text": [
      "<class 'pandas.core.frame.DataFrame'>\n",
      "Int64Index: 100 entries, 0 to 99\n",
      "Data columns (total 12 columns):\n",
      " #   Column             Non-Null Count  Dtype \n",
      "---  ------             --------------  ----- \n",
      " 0   Air Temperature    100 non-null    object\n",
      " 1   Humidity           100 non-null    object\n",
      " 2   pH                 100 non-null    object\n",
      " 3   Conductivity       100 non-null    object\n",
      " 4   Lights Membership  100 non-null    object\n",
      " 5   Fans Membership    100 non-null    object\n",
      " 6   pH Membership      100 non-null    object\n",
      " 7   EC Membership      100 non-null    object\n",
      " 8   Lights Status      100 non-null    object\n",
      " 9   Fans Status        100 non-null    object\n",
      " 10  pH Control Status  100 non-null    object\n",
      " 11  EC Control Status  100 non-null    object\n",
      "dtypes: object(12)\n",
      "memory usage: 10.2+ KB\n"
     ]
    }
   ],
   "source": [
    "results.info()"
   ]
  },
  {
   "cell_type": "code",
   "execution_count": 268,
   "metadata": {},
   "outputs": [],
   "source": [
    "results['Air Temperature'] = results['Air Temperature'].astype('float64')\n",
    "results['Humidity'] = results['Humidity'].astype('float64')\n",
    "results['pH'] = results['pH'].astype('float64')\n",
    "results['Conductivity'] = results['Conductivity'].astype('float64')"
   ]
  },
  {
   "cell_type": "code",
   "execution_count": 272,
   "metadata": {},
   "outputs": [
    {
     "data": {
      "text/plain": [
       "<AxesSubplot:xlabel='pH Control Status', ylabel='pH'>"
      ]
     },
     "execution_count": 272,
     "metadata": {},
     "output_type": "execute_result"
    },
    {
     "data": {
      "image/png": "[encoded data removed]",
      "text/plain": [
       "<Figure size 1000x600 with 2 Axes>"
      ]
     },
     "metadata": {},
     "output_type": "display_data"
    }
   ],
   "source": [
    "fig, axs = plt.subplots(ncols=2, figsize=(10,6))\n",
    "sns.boxplot(x=results['EC Control Status'], y=results['Conductivity'], data=results, ax=axs[0])\n",
    "sns.boxplot(x=results['pH Control Status'], y=results['pH'], data=results, ax=axs[1])"
   ]
  },
  {
   "cell_type": "code",
   "execution_count": 271,
   "metadata": {},
   "outputs": [
    {
     "data": {
      "text/plain": [
       "<AxesSubplot:xlabel='Air Temperature', ylabel='Humidity'>"
      ]
     },
     "execution_count": 271,
     "metadata": {},
     "output_type": "execute_result"
    },
    {
     "data": {
      "image/png": "[encoded data removed]",
      "text/plain": [
       "<Figure size 1000x600 with 2 Axes>"
      ]
     },
     "metadata": {},
     "output_type": "display_data"
    }
   ],
   "source": [
    "fig, axs = plt.subplots(ncols=2, figsize=(10,6))\n",
    "sns.scatterplot(y='Humidity', x='Air Temperature', hue='Lights Status', data=results, ax=axs[0])\n",
    "sns.scatterplot(y='Humidity', x='Air Temperature', hue='Fans Status', data=results, ax=axs[1])"
   ]
  }
 ],
 "metadata": {
  "kernelspec": {
   "display_name": "Python 3.9.13 ('base')",
   "language": "python",
   "name": "python3"
  },
  "language_info": {
   "codemirror_mode": {
    "name": "ipython",
    "version": 3
   },
   "file_extension": ".py",
   "mimetype": "text/x-python",
   "name": "python",
   "nbconvert_exporter": "python",
   "pygments_lexer": "ipython3",
   "version": "3.9.13"
  },
  "orig_nbformat": 4,
  "vscode": {
   "interpreter": {
    "hash": "ad2bdc8ecc057115af97d19610ffacc2b4e99fae6737bb82f5d7fb13d2f2c186"
   }
  }
 },
 "nbformat": 4,
 "nbformat_minor": 2
}
